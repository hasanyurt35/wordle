{
 "cells": [
  {
   "cell_type": "code",
   "execution_count": 27,
   "metadata": {},
   "outputs": [],
   "source": [
    "def dict_creator(filename= \"englishwords.txt\", letter_count= 5):\n",
    "    with open(filename,\"r\", encoding=\"utf8\") as file:\n",
    "        all_words = file.readlines()\n",
    "    words_list = [word.lower() for word in all_words if len(word) == letter_count +1 and word[:-1].isalpha()]\n",
    "    file_name = f\"{letter_count}letter{filename}\"\n",
    "    with open(file_name, \"w\", encoding=\"utf8\") as file:\n",
    "        file.writelines(words_list)\n",
    "    return f\"{file_name} file is created\""
   ]
  },
  {
   "cell_type": "code",
   "execution_count": 60,
   "metadata": {},
   "outputs": [],
   "source": [
    "def grayLetters(all_words, gray_letters):\n",
    "    gray_words = []\n",
    "    for word in all_words:\n",
    "        if not set(word).intersection(gray_letters):\n",
    "            gray_words.append(word)\n",
    "    return gray_words"
   ]
  },
  {
   "cell_type": "code",
   "execution_count": 62,
   "metadata": {},
   "outputs": [],
   "source": [
    "def yellowLetters(all_words, yellow_letters):\n",
    "    yellow_words = [word for word in all_words if len(set(word).intersection(yellow_letters))== len(yellow_letters)]\n",
    "    return yellow_words"
   ]
  },
  {
   "cell_type": "code",
   "execution_count": 76,
   "metadata": {},
   "outputs": [],
   "source": [
    "def greenLetters(all_words, green_letters):\n",
    "    green_words = []\n",
    "    green_count = len(list(filter(None, green_letters)))\n",
    "    len_word = len(green_letters)\n",
    "    for word in all_words:\n",
    "        counter = 0\n",
    "        for index in range(len_word):\n",
    "            if word[index] == green_letters[index]:\n",
    "                counter +=1\n",
    "        if counter == green_count:\n",
    "            green_words.append(word)\n",
    "    return green_words"
   ]
  },
  {
   "cell_type": "code",
   "execution_count": 81,
   "metadata": {},
   "outputs": [
    {
     "name": "stdout",
     "output_type": "stream",
     "text": [
      "3 ['belie', 'bevil', 'bezil']\n"
     ]
    }
   ],
   "source": [
    "gray_letters = input(\"Enter gray letters: \")\n",
    "yellow_letters = input(\"enter yellow letters: \")\n",
    "\n",
    "green_letters = []\n",
    "for i in range(1,6):\n",
    "    green_letters.append(input(f\"Enter letter {i} if it is green, if not hit enter: \"))\n",
    "gray_words = grayLetters(five_letter_words, gray_letters)\n",
    "# print(len(gray_words), gray_words)\n",
    "yellow_words = yellowLetters(gray_words, yellow_letters)\n",
    "# print(len(yellow_words), yellow_words)\n",
    "green_words = greenLetters(yellow_words, green_letters)\n",
    "print(len(green_words), green_words)"
   ]
  }
 ],
 "metadata": {
  "kernelspec": {
   "display_name": "Python 3",
   "language": "python",
   "name": "python3"
  },
  "language_info": {
   "codemirror_mode": {
    "name": "ipython",
    "version": 3
   },
   "file_extension": ".py",
   "mimetype": "text/x-python",
   "name": "python",
   "nbconvert_exporter": "python",
   "pygments_lexer": "ipython3",
   "version": "3.10.10"
  },
  "orig_nbformat": 4
 },
 "nbformat": 4,
 "nbformat_minor": 2
}
